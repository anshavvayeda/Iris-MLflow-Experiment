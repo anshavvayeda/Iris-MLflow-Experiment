{
  "nbformat": 4,
  "nbformat_minor": 0,
  "metadata": {
    "colab": {
      "provenance": []
    },
    "kernelspec": {
      "name": "python3",
      "display_name": "Python 3"
    },
    "language_info": {
      "name": "python"
    }
  },
  "cells": [
    {
      "cell_type": "code",
      "execution_count": null,
      "metadata": {
        "id": "W2HXtI8nSzHc"
      },
      "outputs": [],
      "source": [
        "from sklearn.datasets import load_iris\n",
        "import pandas as pd\n",
        "from sklearn.model_selection import train_test_split\n",
        "from sklearn.preprocessing import StandardScaler\n",
        "from sklearn.linear_model import LogisticRegression\n",
        "from sklearn.ensemble import RandomForestClassifier\n",
        "from sklearn.metrics import accuracy_score, precision_score, recall_score\n",
        "import mlflow\n",
        "\n",
        "# Step 1: Data Processing Class\n",
        "class IrisDataProcessor:\n",
        "    def __init__(self):\n",
        "        self.data = load_iris()\n",
        "        self.df = None\n",
        "        self.X_train, self.X_test, self.y_train, self.y_test = None, None, None, None\n",
        "\n",
        "    def prepare_data(self):\n",
        "        self.df = pd.DataFrame(self.data.data, columns=self.data.feature_names)\n",
        "        scaler = StandardScaler()\n",
        "        scaled_features = scaler.fit_transform(self.df)\n",
        "        self.X_train, self.X_test, self.y_train, self.y_test = train_test_split(\n",
        "            scaled_features, self.data.target, test_size=0.2, random_state=42\n",
        "        )\n",
        "        return self.X_train, self.X_test, self.y_train, self.y_test\n",
        "\n",
        "    def get_feature_stats(self):\n",
        "        return self.df.describe()\n",
        "\n",
        "# Step 2: Experimentation Class with MLflow Tracking\n",
        "class IrisExperiment:\n",
        "    def __init__(self, data_processor):\n",
        "        self.data_processor = data_processor\n",
        "        self.models = {\n",
        "            \"Logistic Regression\": LogisticRegression(max_iter=200),\n",
        "            \"Random Forest\": RandomForestClassifier()\n",
        "        }\n",
        "        mlflow.set_experiment(\"IrisClassification\")\n",
        "\n",
        "    def run_experiment(self):\n",
        "        for model_name, model in self.models.items():\n",
        "            model.fit(self.data_processor.X_train, self.data_processor.y_train)\n",
        "            predictions = model.predict(self.data_processor.X_test)\n",
        "            self.log_results(model_name, predictions)\n",
        "\n",
        "    def log_results(self, model_name, predictions):\n",
        "        with mlflow.start_run(run_name=model_name):\n",
        "            mlflow.log_param(\"model\", model_name)\n",
        "            mlflow.log_metric(\"accuracy\", accuracy_score(self.data_processor.y_test, predictions))\n",
        "            mlflow.log_metric(\"precision\", precision_score(self.data_processor.y_test, predictions, average='weighted'))\n",
        "            mlflow.log_metric(\"recall\", recall_score(self.data_processor.y_test, predictions, average='weighted'))\n",
        "\n",
        "# Step 3: Main Function to Run the Experiment\n",
        "def main():\n",
        "    # Initialize processor and prepare data\n",
        "    processor = IrisDataProcessor()\n",
        "    processor.prepare_data()\n",
        "\n",
        "    # Run experiments and log results\n",
        "    experiment = IrisExperiment(processor)\n",
        "    experiment.run_experiment()\n",
        "    print(\"Experiments completed and logged to MLflow.\")\n",
        "\n",
        "if __name__ == \"__main__\":\n",
        "    main()\n"
      ]
    }
  ]
}